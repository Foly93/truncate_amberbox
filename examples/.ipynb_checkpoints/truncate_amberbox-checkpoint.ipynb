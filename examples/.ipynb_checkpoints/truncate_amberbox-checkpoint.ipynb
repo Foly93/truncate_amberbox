{
 "cells": [
  {
   "cell_type": "code",
   "execution_count": 7,
   "id": "376272c0-92bf-4880-abe7-7f42ce7fb921",
   "metadata": {
    "tags": []
   },
   "outputs": [],
   "source": [
    "from tqdm import tqdm\n",
    "import itertools"
   ]
  },
  {
   "cell_type": "code",
   "execution_count": 2,
   "id": "13416d5d",
   "metadata": {},
   "outputs": [],
   "source": [
    "import warnings\n",
    "import subprocess\n",
    "import numpy as np\n",
    "import MDAnalysis as mda\n",
    "from MDAnalysis.transformations import center_in_box"
   ]
  },
  {
   "cell_type": "code",
   "execution_count": 3,
   "id": "7983de86",
   "metadata": {},
   "outputs": [],
   "source": [
    "trj = 'mdcrd.nc'\n",
    "top = 'prmtop'\n",
    "cmplx_sel = 'nucleic or resname G5 or resname C3 or protein'\n",
    "slvnt_sel = 'resname WAT'\n",
    "N_slvnt = 5000\n",
    "conc = 0.082\n",
    "out = 'out.prmtop'\n",
    "rst = 'out.restrt'"
   ]
  },
  {
   "cell_type": "code",
   "execution_count": 4,
   "id": "928387d6",
   "metadata": {},
   "outputs": [],
   "source": [
    "# ignore annoying warnings sparked by the <atoms>.write(stru.file)\n",
    "warnings.filterwarnings(\"ignore\", message=\"Found no information for attr:\")\n",
    "warnings.filterwarnings(\"ignore\", message=\"Found missing chainIDs.\")"
   ]
  },
  {
   "cell_type": "code",
   "execution_count": 9,
   "id": "fc1bef33",
   "metadata": {},
   "outputs": [],
   "source": [
    "# instantiate universe from user input; hardcoded formats, yikes.\n",
    "u = mda.Universe(top, trj, format='NCDF', topology_format='PRMTOP')\n",
    "# declare atom groups for the complex and solvent from user input\n",
    "cmplx = u.select_atoms('{}'.format(cmplx_sel))\n",
    "slvnt = u.select_atoms(slvnt_sel)"
   ]
  },
  {
   "cell_type": "code",
   "execution_count": 10,
   "id": "5d98f160-e90e-4b6a-ace3-3a4c78cd012d",
   "metadata": {
    "tags": []
   },
   "outputs": [
    {
     "name": "stderr",
     "output_type": "stream",
     "text": [
      "100%|███████████████████████████████████████████████████████████████████████████████| 53763/53763 [11:40<00:00, 76.75it/s]\n"
     ]
    }
   ],
   "source": [
    "# create empty list to hold all the molecules\n",
    "molecules = []\n",
    "\n",
    "bonds = np.array([bond.atoms.ids for bond in u.bonds])\n",
    "\n",
    "for atom in tqdm(u.atoms.ids):\n",
    "    if atom not in list(itertools.chain.from_iterable(molecules)):\n",
    "        molecule = [atom]\n",
    "    \n",
    "        for bond in bonds:\n",
    "            if len(list(set(molecule) & set(bond))):\n",
    "                molecule.extend(list(bond))\n",
    "                \n",
    "        molecules.append(list(set(molecule)))\n",
    "        for atom in set(molecule):\n",
    "            bonds = bonds[~(bonds==atom).any(axis=(1))]"
   ]
  },
  {
   "cell_type": "code",
   "execution_count": 1,
   "id": "b4e32427-5004-42be-97c0-045934d407f1",
   "metadata": {
    "tags": []
   },
   "outputs": [
    {
     "ename": "NameError",
     "evalue": "name 'molecules' is not defined",
     "output_type": "error",
     "traceback": [
      "\u001b[0;31m---------------------------------------------------------------------------\u001b[0m",
      "\u001b[0;31mNameError\u001b[0m                                 Traceback (most recent call last)",
      "Cell \u001b[0;32mIn[1], line 2\u001b[0m\n\u001b[1;32m      1\u001b[0m \u001b[38;5;66;03m# Declare chain information according to molecules\u001b[39;00m\n\u001b[0;32m----> 2\u001b[0m chainA \u001b[38;5;241m=\u001b[39m [\u001b[38;5;124m'\u001b[39m\u001b[38;5;124mA\u001b[39m\u001b[38;5;124m'\u001b[39m]\u001b[38;5;241m*\u001b[39m\u001b[38;5;28mlen\u001b[39m(\u001b[43mmolecules\u001b[49m[\u001b[38;5;241m0\u001b[39m])\n\u001b[1;32m      3\u001b[0m chainB \u001b[38;5;241m=\u001b[39m [\u001b[38;5;124m'\u001b[39m\u001b[38;5;124mB\u001b[39m\u001b[38;5;124m'\u001b[39m]\u001b[38;5;241m*\u001b[39m\u001b[38;5;28mlen\u001b[39m(molecules[\u001b[38;5;241m1\u001b[39m])\n\u001b[1;32m      4\u001b[0m chainX \u001b[38;5;241m=\u001b[39m [\u001b[38;5;124m'\u001b[39m\u001b[38;5;124mX\u001b[39m\u001b[38;5;124m'\u001b[39m]\u001b[38;5;241m*\u001b[39m(u\u001b[38;5;241m.\u001b[39matoms\u001b[38;5;241m.\u001b[39mn_atoms \u001b[38;5;241m-\u001b[39m \u001b[38;5;28mlen\u001b[39m(molecules[\u001b[38;5;241m0\u001b[39m]) \u001b[38;5;241m-\u001b[39m \u001b[38;5;28mlen\u001b[39m(molecules[\u001b[38;5;241m1\u001b[39m]))\n",
      "\u001b[0;31mNameError\u001b[0m: name 'molecules' is not defined"
     ]
    }
   ],
   "source": [
    "# Declare chain information according to molecules\n",
    "chainA = ['A']*len(molecules[0])\n",
    "chainB = ['B']*len(molecules[1])\n",
    "chainX = ['X']*(u.atoms.n_atoms - len(molecules[0]) - len(molecules[1]))\n",
    "chains = chainA+chainB+chainX"
   ]
  },
  {
   "cell_type": "code",
   "execution_count": 12,
   "id": "e5b8c8b0-da65-47e9-8cc2-b4bc63ddfd52",
   "metadata": {
    "tags": []
   },
   "outputs": [],
   "source": [
    "u.add_TopologyAttr('chainID',chains)"
   ]
  },
  {
   "cell_type": "code",
   "execution_count": 13,
   "id": "e2317762",
   "metadata": {},
   "outputs": [],
   "source": [
    "# read the last frame of the trajectory\n",
    "for ts in u.trajectory[-1:]:\n",
    "    # calculate box dimensions the center coords\n",
    "    dim = ts.triclinic_dimensions\n",
    "    box_cog = np.sum(dim, axis=0) / 2\n",
    "\n",
    "    # translate complex atom 1 to the box COG to avoid a split complex, unwrap the complex and calc the COM\n",
    "    u.atoms.translate(box_cog - cmplx[:1].center_of_mass())\n",
    "    cmplx.unwrap(compound='fragments')\n",
    "    cmplx_com = cmplx.center_of_mass()\n",
    "\n",
    "    # translate the Complex COM to the box COG and wrap the residues into the box\n",
    "    u.atoms.translate(box_cog - cmplx_com)\n",
    "    slvnt.wrap(compound='residues')\n",
    "\n",
    "    # calculate the solvent COMs and find closest N solvent molecules to the complex COM\n",
    "    slvnt_xyz = slvnt.center_of_mass(compound='residues')\n",
    "    close = np.argsort(np.linalg.norm(slvnt_xyz - cmplx.center_of_mass()[None,:], axis=1))[:N_slvnt]\n",
    "    close_slvnt = u.select_atoms(slvnt_sel).residues[close].atoms\n",
    "\n",
    "    # combine cmplx atom group and closest solvennt atom group and write it to PDB for tleap input\n",
    "    trunc = cmplx + close_slvnt\n",
    "    trunc.write(\"trunc.pdb\")\n",
    "    break"
   ]
  },
  {
   "cell_type": "code",
   "execution_count": 14,
   "id": "c675e291",
   "metadata": {},
   "outputs": [
    {
     "name": "stdout",
     "output_type": "stream",
     "text": [
      "pdb4amber creates auxiliary PDB of truncated simbox and other files...\n"
     ]
    }
   ],
   "source": [
    "# print user message and run pdb4amber to create a tleap ready PDB file\n",
    "print(\"pdb4amber creates auxiliary PDB of truncated simbox and other files...\")\n",
    "solv_sys = subprocess.run(['pdb4amber', '-i', 'trunc.pdb','-o','trunc_a.pdb'],\n",
    "                           stderr=subprocess.STDOUT,\n",
    "                           stdout=open('log.amb2pdb','w'),\n",
    "                           check=True,\n",
    "                           text=True)"
   ]
  },
  {
   "cell_type": "code",
   "execution_count": 15,
   "id": "bf851a67",
   "metadata": {},
   "outputs": [],
   "source": [
    "# write the necessary leap file via python, necessary since user input needs to be included\n",
    "with open('solv_box.leap','w') as f:\n",
    "    f.write('source leaprc.RNA.OL3\\n')\n",
    "    f.write('source leaprc.water.tip3p\\n')\n",
    "    f.write('source leaprc.protein.ff14SB\\n')\n",
    "\n",
    "    f.write('system = loadpdb trunc_a.pdb\\n')\n",
    "\n",
    "    f.write('solvateoct system TIP3PBOX 0.0\\n')\n",
    "    f.write('addions system Na+ 0\\n')\n",
    "    f.write('addions system Cl- 0\\n')\n",
    "\n",
    "    f.write('savepdb system noions.pdb\\n')\n",
    "    f.write('saveAmberParm system noions.prmtop noions.rst7\\n')\n",
    "    f.write('quit')"
   ]
  },
  {
   "cell_type": "code",
   "execution_count": 16,
   "id": "55138d69",
   "metadata": {},
   "outputs": [
    {
     "name": "stdout",
     "output_type": "stream",
     "text": [
      "(1/2) tleap solvates truncated simbox, output redirected into log.solv...\n"
     ]
    }
   ],
   "source": [
    "# print user message and run tleap to create solvated dummy system\n",
    "print(\"(1/2) tleap solvates truncated simbox, output redirected into log.solv...\")\n",
    "solv_sys = subprocess.run(['tleap', '-f', 'solv_box.leap'],\n",
    "                           stderr=subprocess.STDOUT,\n",
    "                           stdout=open('log.solv','w'),\n",
    "                           check=True,\n",
    "                           text=True)"
   ]
  },
  {
   "cell_type": "code",
   "execution_count": 17,
   "id": "4083acfd",
   "metadata": {},
   "outputs": [],
   "source": [
    "# instantiate universe of the solvated dummy system and calculate the number of Ions from user inputted conc\n",
    "### maybe recall noions into dummy\n",
    "solvated = mda.Universe('noions.prmtop','noions.rst7',format='RESTRT')\n",
    "nW = solvated.select_atoms('resname WAT and element O').n_atoms\n",
    "nI = np.round(nW * 1 / (( 1 / conc / 0.018) + 2)).astype(int)\n",
    "# use python to write a tleap input file, necessary since user input needs to be included\n",
    "with open('genions.leap','w') as f:\n",
    "    f.write('source leaprc.RNA.OL3\\n')\n",
    "    f.write('source leaprc.water.tip3p\\n')\n",
    "    f.write('source leaprc.protein.ff14SB\\n')\n",
    "\n",
    "    f.write('system = loadpdb trunc_a.pdb\\n')\n",
    "\n",
    "    f.write('solvateoct system TIP3PBOX 0.0\\n')\n",
    "    f.write('addions system Na+ 0\\n')\n",
    "    f.write('addions system Cl- 0\\n')\n",
    "    f.write('addions system Na+ {} Cl- {}\\n'.format(nI,nI))\n",
    "\n",
    "    f.write('savepdb system system.pdb\\n')\n",
    "    f.write('saveamberparm system {} {}\\n'.format(out, rst))\n",
    "    f.write('quit')"
   ]
  },
  {
   "cell_type": "code",
   "execution_count": 18,
   "id": "471657d8",
   "metadata": {},
   "outputs": [
    {
     "name": "stdout",
     "output_type": "stream",
     "text": [
      "(2/2) tleap generates amber files for truncated simbox, output redirected into log.ions...\n"
     ]
    }
   ],
   "source": [
    "# print user message and use tleap to create the final system with correct ion conc\n",
    "print(\"(2/2) tleap generates amber files for truncated simbox, output redirected into log.ions...\")\n",
    "ions_sys = subprocess.run(['tleap','-f','genions.leap'],\n",
    "                           stderr=subprocess.STDOUT,\n",
    "                           stdout=open('log.ions','w'),\n",
    "                           check=True,\n",
    "                           text=True)"
   ]
  },
  {
   "cell_type": "code",
   "execution_count": 19,
   "id": "9727ef36",
   "metadata": {},
   "outputs": [],
   "source": [
    "# instantiate the new truncated system from the tleap output files and declare atom groups\n",
    "trunc_sys = mda.Universe(out, rst, format='RESTRT',topology_format='PRMTOP')\n",
    "trunc_slvnt = trunc_sys.select_atoms(slvnt_sel)\n",
    "trunc_cmplx = trunc_sys.select_atoms(cmplx_sel)\n",
    "# calculate the comdists betweenn solvent and complex and find the 100 furthest solvent molecules\n",
    "com_dists = trunc_slvnt.center_of_mass(compound='residues') - trunc_cmplx.center_of_mass()[None,:]\n",
    "far = np.argsort(np.linalg.norm(com_dists, axis=1))[-100:]\n",
    "far_slvnt = trunc_slvnt.residues[far].atoms\n"
   ]
  },
  {
   "cell_type": "code",
   "execution_count": 20,
   "id": "45f26f17",
   "metadata": {},
   "outputs": [
    {
     "name": "stdout",
     "output_type": "stream",
     "text": [
      "The approximate distance to the outer solvation layer is 15.85 Angstrom measured as the minimum distance of the complex surface to the 100 outermost water molecules. The distance corresponds to the water with resid 5154.\n"
     ]
    }
   ],
   "source": [
    "# calculate the positional difference from the far solvents and the complex then the distance stored as matrix\n",
    "surf_diffs = far_slvnt.center_of_mass(compound='residues')[:,None,:] - trunc_cmplx.positions[None,:,:]\n",
    "surf_dists = np.linalg.norm(surf_diffs.reshape(-1,3), axis=1).reshape(100,-1)\n",
    "# find the minimum value basically making it the surface distance between complex and outer solvent layer\n",
    "surf_min = surf_dists.min()\n",
    "# find the minimmum index and thus the minimum solvent residue ID\n",
    "min_idx = np.unravel_index(surf_dists.argmin(), surf_dists.shape)[0]\n",
    "min_resid = far_slvnt[min_idx].resid\n",
    "\n",
    "# inform the user about the surface-solv-layer distance and the water resid that this distance corresponds to\n",
    "print(\"The approximate distance to the outer solvation layer is {:.2f} Angstrom measured as the minimum distance of the complex surface to the 100 outermost water molecules. The distance corresponds to the water with resid {}.\".format(surf_min,min_resid))"
   ]
  }
 ],
 "metadata": {
  "kernelspec": {
   "display_name": "Python (MDANAL)",
   "language": "python",
   "name": "mdanal"
  },
  "language_info": {
   "codemirror_mode": {
    "name": "ipython",
    "version": 3
   },
   "file_extension": ".py",
   "mimetype": "text/x-python",
   "name": "python",
   "nbconvert_exporter": "python",
   "pygments_lexer": "ipython3",
   "version": "3.10.10"
  }
 },
 "nbformat": 4,
 "nbformat_minor": 5
}
