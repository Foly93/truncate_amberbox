{
 "cells": [
  {
   "cell_type": "code",
   "execution_count": 1,
   "id": "13416d5d",
   "metadata": {},
   "outputs": [],
   "source": [
    "import warnings\n",
    "import subprocess\n",
    "import numpy as np\n",
    "import MDAnalysis as mda\n",
    "from MDAnalysis.transformations import center_in_box"
   ]
  },
  {
   "cell_type": "code",
   "execution_count": 2,
   "id": "7983de86",
   "metadata": {},
   "outputs": [],
   "source": [
    "trj = 'mdcrd.nc'\n",
    "top = 'prmtop'\n",
    "cmplx_sel = 'nucleic or resname G5 or resname C3 or protein'\n",
    "slvnt_sel = 'resname WAT'\n",
    "N_slvnt = 5000\n",
    "conc = 0.082\n",
    "out = 'out.prmtop'\n",
    "rst = 'out.restrt'"
   ]
  },
  {
   "cell_type": "code",
   "execution_count": 3,
   "id": "928387d6",
   "metadata": {},
   "outputs": [],
   "source": [
    "# ignore annoying warnings sparked by the <atoms>.write(stru.file)\n",
    "warnings.filterwarnings(\"ignore\", message=\"Found no information for attr:\")\n",
    "warnings.filterwarnings(\"ignore\", message=\"Found missing chainIDs.\")"
   ]
  },
  {
   "cell_type": "code",
   "execution_count": 4,
   "id": "fc1bef33",
   "metadata": {},
   "outputs": [],
   "source": [
    "# instantiate universe from user input; hardcoded formats, yikes.\n",
    "u = mda.Universe(top, trj, format='NCDF', topology_format='PRMTOP')\n",
    "# declare atom groups for the complex and solvent from user input\n",
    "cmplx = u.select_atoms('({}) and not element H'.format(cmplx_sel))\n",
    "slvnt = u.select_atoms(slvnt_sel)"
   ]
  },
  {
   "cell_type": "code",
   "execution_count": 5,
   "id": "e2317762",
   "metadata": {},
   "outputs": [],
   "source": [
    "# read the last frame of the trajectory\n",
    "for ts in u.trajectory[-1:]:\n",
    "    # calculate box dimensions the center coords\n",
    "    dim = ts.triclinic_dimensions\n",
    "    box_cog = np.sum(dim, axis=0) / 2\n",
    "\n",
    "    # translate complex atom 1 to the box COG to avoid a split complex, unwrap the complex and calc the COM\n",
    "    u.atoms.translate(box_cog - cmplx[:1].center_of_mass())\n",
    "    cmplx.unwrap(compound='fragments')\n",
    "    cmplx_com = cmplx.center_of_mass()\n",
    "\n",
    "    # translate the Complex COM to the box COG and wrap the residues into the box\n",
    "    u.atoms.translate(box_cog - cmplx_com)\n",
    "    slvnt.wrap(compound='residues')\n",
    "\n",
    "    # calculate the solvent COMs and find closest N solvent molecules to the complex COM\n",
    "    slvnt_xyz = slvnt.center_of_mass(compound='residues')\n",
    "    close = np.argsort(np.linalg.norm(slvnt_xyz - cmplx.center_of_mass()[None,:], axis=1))[:N_slvnt]\n",
    "    close_slvnt = u.select_atoms(slvnt_sel).residues[close].atoms\n",
    "\n",
    "    # combine cmplx atom group and closest solvennt atom group and write it to PDB for tleap input\n",
    "    trunc = cmplx + close_slvnt\n",
    "    trunc.write(\"trunc.pdb\")\n",
    "    break"
   ]
  },
  {
   "cell_type": "code",
   "execution_count": 6,
   "id": "c675e291",
   "metadata": {},
   "outputs": [
    {
     "name": "stdout",
     "output_type": "stream",
     "text": [
      "pdb4amber creates auxiliary PDB of truncated simbox and other files...\n"
     ]
    }
   ],
   "source": [
    "# print user message and run pdb4amber to create a tleap ready PDB file\n",
    "print(\"pdb4amber creates auxiliary PDB of truncated simbox and other files...\")\n",
    "solv_sys = subprocess.run(['pdb4amber', '-i', 'trunc.pdb','-o','trunc_a.pdb'],\n",
    "                           stderr=subprocess.STDOUT,\n",
    "                           stdout=open('log.amb2pdb','w'),\n",
    "                           check=True,\n",
    "                           text=True)"
   ]
  },
  {
   "cell_type": "code",
   "execution_count": 7,
   "id": "bf851a67",
   "metadata": {},
   "outputs": [],
   "source": [
    "# write the necessary leap file via python, necessary since user input needs to be included\n",
    "with open('solv_box.leap','w') as f:\n",
    "    f.write('source leaprc.RNA.OL3\\n')\n",
    "    f.write('source leaprc.water.tip3p\\n')\n",
    "    f.write('source leaprc.protein.ff14SB\\n')\n",
    "\n",
    "    f.write('system = loadpdb trunc_a.pdb\\n')\n",
    "\n",
    "    f.write('solvateoct system TIP3PBOX 0.0\\n')\n",
    "    f.write('addions system Na+ 0\\n')\n",
    "    f.write('addions system Cl- 0\\n')\n",
    "\n",
    "    f.write('savepdb system noions.pdb\\n')\n",
    "    f.write('saveAmberParm system noions.prmtop noions.rst7\\n')\n",
    "    f.write('quit')"
   ]
  },
  {
   "cell_type": "code",
   "execution_count": 8,
   "id": "55138d69",
   "metadata": {},
   "outputs": [
    {
     "name": "stdout",
     "output_type": "stream",
     "text": [
      "(1/2) tleap solvates truncated simbox, output redirected into log.solv...\n"
     ]
    }
   ],
   "source": [
    "# print user message and run tleap to create solvated dummy system\n",
    "print(\"(1/2) tleap solvates truncated simbox, output redirected into log.solv...\")\n",
    "solv_sys = subprocess.run(['tleap', '-f', 'solv_box.leap'],\n",
    "                           stderr=subprocess.STDOUT,\n",
    "                           stdout=open('log.solv','w'),\n",
    "                           check=True,\n",
    "                           text=True)"
   ]
  },
  {
   "cell_type": "code",
   "execution_count": 9,
   "id": "4083acfd",
   "metadata": {},
   "outputs": [],
   "source": [
    "# instantiate universe of the solvated dummy system and calculate the number of Ions from user inputted conc\n",
    "### maybe recall noions into dummy\n",
    "solvated = mda.Universe('noions.prmtop','noions.rst7',format='RESTRT')\n",
    "nW = solvated.select_atoms('resname WAT and element O').n_atoms\n",
    "nI = np.round(nW * 1 / (( 1 / conc / 0.018) + 2)).astype(int)\n",
    "# use python to write a tleap input file, necessary since user input needs to be included\n",
    "with open('genions.leap','w') as f:\n",
    "    f.write('source leaprc.RNA.OL3\\n')\n",
    "    f.write('source leaprc.water.tip3p\\n')\n",
    "    f.write('source leaprc.protein.ff14SB\\n')\n",
    "\n",
    "    f.write('system = loadpdb trunc_a.pdb\\n')\n",
    "\n",
    "    f.write('solvateoct system TIP3PBOX 0.0\\n')\n",
    "    f.write('addions system Na+ 0\\n')\n",
    "    f.write('addions system Cl- 0\\n')\n",
    "    f.write('addions system Na+ {} Cl- {}\\n'.format(nI,nI))\n",
    "\n",
    "    f.write('savepdb system system.pdb\\n')\n",
    "    f.write('saveamberparm system {} {}\\n'.format(out, rst))\n",
    "    f.write('quit')"
   ]
  },
  {
   "cell_type": "code",
   "execution_count": 10,
   "id": "471657d8",
   "metadata": {},
   "outputs": [
    {
     "name": "stdout",
     "output_type": "stream",
     "text": [
      "(2/2) tleap generates amber files for truncated simbox, output redirected into log.ions...\n"
     ]
    }
   ],
   "source": [
    "# print user message and use tleap to create the final system with correct ion conc\n",
    "print(\"(2/2) tleap generates amber files for truncated simbox, output redirected into log.ions...\")\n",
    "ions_sys = subprocess.run(['tleap','-f','genions.leap'],\n",
    "                           stderr=subprocess.STDOUT,\n",
    "                           stdout=open('log.ions','w'),\n",
    "                           check=True,\n",
    "                           text=True)"
   ]
  },
  {
   "cell_type": "code",
   "execution_count": 11,
   "id": "9727ef36",
   "metadata": {},
   "outputs": [],
   "source": [
    "# instantiate the new truncated system from the tleap output files and declare atom groups\n",
    "trunc_sys = mda.Universe(out, rst, format='RESTRT',topology_format='PRMTOP')\n",
    "trunc_slvnt = trunc_sys.select_atoms(slvnt_sel)\n",
    "trunc_cmplx = trunc_sys.select_atoms(cmplx_sel)\n",
    "# calculate the comdists betweenn solvent and complex and find the 100 furthest solvent molecules\n",
    "com_dists = trunc_slvnt.center_of_mass(compound='residues') - trunc_cmplx.center_of_mass()[None,:]\n",
    "far = np.argsort(np.linalg.norm(com_dists, axis=1))[-100:]\n",
    "far_slvnt = trunc_slvnt.residues[far].atoms\n"
   ]
  },
  {
   "cell_type": "code",
   "execution_count": 12,
   "id": "45f26f17",
   "metadata": {},
   "outputs": [
    {
     "name": "stdout",
     "output_type": "stream",
     "text": [
      "The approximate distance to the outer solvation layer is 16.84 Angstrom measured as the minimum distance of the complex surface to the 100 outermost water molecules. The distance corresponds to the water with resid 5090.\n"
     ]
    }
   ],
   "source": [
    "# calculate the positional difference from the far solvents and the complex then the distance stored as matrix\n",
    "surf_diffs = far_slvnt.center_of_mass(compound='residues')[:,None,:] - trunc_cmplx.positions[None,:,:]\n",
    "surf_dists = np.linalg.norm(surf_diffs.reshape(-1,3), axis=1).reshape(100,-1)\n",
    "# find the minimum value basically making it the surface distance between complex and outer solvent layer\n",
    "surf_min = surf_dists.min()\n",
    "# find the minimmum index and thus the minimum solvent residue ID\n",
    "min_idx = np.unravel_index(surf_dists.argmin(), surf_dists.shape)[0]\n",
    "min_resid = far_slvnt[min_idx].resid\n",
    "\n",
    "# inform the user about the surface-solv-layer distance and the water resid that this distance corresponds to\n",
    "print(\"The approximate distance to the outer solvation layer is {:.2f} Angstrom measured as the minimum distance of the complex surface to the 100 outermost water molecules. The distance corresponds to the water with resid {}.\".format(surf_min,min_resid))"
   ]
  }
 ],
 "metadata": {
  "kernelspec": {
   "display_name": "Python (MDANAL)",
   "language": "python",
   "name": "mdanal"
  },
  "language_info": {
   "codemirror_mode": {
    "name": "ipython",
    "version": 3
   },
   "file_extension": ".py",
   "mimetype": "text/x-python",
   "name": "python",
   "nbconvert_exporter": "python",
   "pygments_lexer": "ipython3",
   "version": "3.10.10"
  }
 },
 "nbformat": 4,
 "nbformat_minor": 5
}
